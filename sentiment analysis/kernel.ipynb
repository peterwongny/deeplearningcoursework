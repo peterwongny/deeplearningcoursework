{
  "cells": [
    {
      "metadata": {
        "_uuid": "8f2839f25d086af736a60e9eeb907d3b93b6e0e5",
        "_cell_guid": "b1076dfc-b9ad-4769-8c92-a6c4dae69d19",
        "trusted": true
      },
      "cell_type": "code",
      "source": "# This Python 3 environment comes with many helpful analytics libraries installed\n# It is defined by the kaggle/python docker image: https://github.com/kaggle/docker-python\n# For example, here's several helpful packages to load in \n\nimport numpy as np # linear algebra\nimport pandas as pd # data processing, CSV file I/O (e.g. pd.read_csv)\n\n# Input data files are available in the \"../input/\" directory.\n# For example, running this (by clicking run or pressing Shift+Enter) will list the files in the input directory\n\nimport os\nprint(os.listdir(\"../input\"))\n\nfrom scipy import sparse\nfrom collections import Counter\nfrom sklearn.metrics import accuracy_score, precision_recall_fscore_support\nimport nltk\nfrom nltk.corpus import stopwords\nimport string\n# Any results you write to the current directory are saved as output.\nstop_words = set(stopwords.words('english') + list(string.punctuation))",
      "execution_count": null,
      "outputs": []
    },
    {
      "metadata": {
        "_cell_guid": "79c7e3d0-c299-4dcb-8224-4455121ee9b0",
        "_uuid": "d629ff2d2480ee46fbb7e2d37f6b5fab8052498a",
        "trusted": true
      },
      "cell_type": "code",
      "source": "tr_df = pd.read_csv(\"../input/train.csv\")\nte_df = pd.read_csv(\"../input/test.csv\")",
      "execution_count": null,
      "outputs": []
    },
    {
      "metadata": {
        "trusted": true,
        "_uuid": "d4cef75c1f0fa11624e148b61daaef588ee7d509"
      },
      "cell_type": "code",
      "source": "print(\"Train size: \", tr_df.shape[0])\nprint(\"Test size: \", te_df.shape[0])",
      "execution_count": null,
      "outputs": []
    },
    {
      "metadata": {
        "trusted": true,
        "_uuid": "5da39b928886155b28c829d6b8ff5b3fb098c7dd"
      },
      "cell_type": "code",
      "source": "tr_df[\"label\"].value_counts()",
      "execution_count": null,
      "outputs": []
    },
    {
      "metadata": {
        "trusted": true,
        "_uuid": "896b57899bff08ebc5b314a34c645119dffb7921"
      },
      "cell_type": "code",
      "source": "te_df[\"label\"].value_counts()",
      "execution_count": null,
      "outputs": []
    },
    {
      "metadata": {
        "trusted": true,
        "scrolled": false,
        "_uuid": "f9e206e14ce8ca9a3d2bf50e30f2ca33e94d3fb6"
      },
      "cell_type": "code",
      "source": "#split train and val\n\ntest_df = te_df\n\nmsk = np.random.rand(len(tr_df)) < 0.8\ntrain_df = tr_df[msk]\nval_df = tr_df[~msk]\n\n\ntrain_id = train_df['id']\nval_id = val_df['id']\ntest_id = test_df['id']\n\ntrain_label = train_df['label']\nval_label = val_df['label']\ntest_label = test_df['label']\n\n",
      "execution_count": null,
      "outputs": []
    },
    {
      "metadata": {
        "trusted": true,
        "_uuid": "15686544a723958d1beeaa3d7c248dbf63ec7330"
      },
      "cell_type": "code",
      "source": "from sklearn.feature_extraction.text import CountVectorizer\n\nvectorizer = CountVectorizer(stop_words=stop_words)\n\ntrain_bow = vectorizer.fit_transform(train_df['text'])\nval_bow = vectorizer.transform(val_df['text'])\ntest_bow = vectorizer.transform(test_df['text'])\n\n",
      "execution_count": null,
      "outputs": []
    },
    {
      "metadata": {
        "trusted": true,
        "_uuid": "d411458bd58d22e2ee673375d37a816f59828367"
      },
      "cell_type": "code",
      "source": "from sklearn.feature_extraction.text import TfidfTransformer\n\n\ntransformer = TfidfTransformer()\n\n\ntrain_tfidf = transformer.fit_transform(train_bow)\nval_tfidf = transformer.transform(val_bow)\ntest_tfidf = transformer.transform(test_bow)",
      "execution_count": null,
      "outputs": []
    },
    {
      "metadata": {
        "trusted": true,
        "_uuid": "a684b620de0917afa79c087e9484c76219847ae6"
      },
      "cell_type": "code",
      "source": "from sklearn import preprocessing \n\n# train_tfidf = preprocessing.scale(train_tfidf, with_mean=False)\n\n# train_bow = preprocessing.normalize(train_bow, axis=0)",
      "execution_count": null,
      "outputs": []
    },
    {
      "metadata": {
        "trusted": true,
        "_uuid": "871d1e065f265ae17e9d2b81612b7efa73e5bc81"
      },
      "cell_type": "code",
      "source": "from sklearn.svm import SVC\nfrom sklearn.grid_search import GridSearchCV\n\n",
      "execution_count": null,
      "outputs": []
    },
    {
      "metadata": {
        "trusted": true,
        "scrolled": true,
        "_uuid": "acbe0e34b21b200772437b61312acfada89a8b17"
      },
      "cell_type": "code",
      "source": "\n\n\n# tuned_parameters = [{'kernel': ['linear'],\n#                      'C': [0.6, 0.7, 0.8]}]\n\n# clf = GridSearchCV(SVC(), tuned_parameters, cv=2, verbose=100)\n\n# clf.fit(train_tfidf, train_label)\n\n\n",
      "execution_count": null,
      "outputs": []
    },
    {
      "metadata": {
        "trusted": true,
        "_uuid": "116ab5492d4861f9f2841ac26befd36f2b71b2a5",
        "scrolled": false
      },
      "cell_type": "code",
      "source": "# print(\"Best parameters\")\n# print(clf.best_params_)\n# print()\n# print(clf.best_score_)",
      "execution_count": null,
      "outputs": []
    },
    {
      "metadata": {
        "trusted": true,
        "_uuid": "09345ce0af5b898c7fbd6cf8ec5d2dc0251c1d4b"
      },
      "cell_type": "code",
      "source": "from sklearn.naive_bayes import GaussianNB\nfrom sklearn.naive_bayes import MultinomialNB",
      "execution_count": null,
      "outputs": []
    },
    {
      "metadata": {
        "trusted": true,
        "_uuid": "239f49da71b10b82d672e4a1e284aaca4d20334d"
      },
      "cell_type": "code",
      "source": "# mnb_clf = MultinomialNB()\n\n# mnb_clf.fit(train_bow, train_label)\n# print(\"train_acc: \")\n# print(mnb_clf.score(train_bow, train_label))\n# print(\"val_acc: \")\n# print(mnb_clf.score(val_bow, val_label))\n",
      "execution_count": null,
      "outputs": []
    },
    {
      "metadata": {
        "trusted": true,
        "_uuid": "31294c00bccc51ebcd1746ec49a09bdde7549e59",
        "scrolled": true
      },
      "cell_type": "code",
      "source": "# gnb_clf = GaussianNB()\n\n# gnb_clf.fit(train_bow.toarray(), train_label)\n# print(\"train_acc: \")\n# print(gnb_clf.score(train_bow.toarray(), train_label))\n# print(\"val_acc: \")\n# print(gnb_clf.score(val_bow.toarray(), val_label))",
      "execution_count": null,
      "outputs": []
    },
    {
      "metadata": {
        "trusted": true,
        "_uuid": "a87e6048a76b088af1f5a9584f3d4c4bfd795a41"
      },
      "cell_type": "code",
      "source": "# from sklearn import tree\n# dt_clf = tree.DecisionTreeClassifier()\n# dt_clf = dt_clf.fit(train_tfidf.toarray(), train_label)\n\n# print(\"train_acc: \")\n# print(dt_clf.score(train_tfidf, train_label))\n# print(\"val_acc: \")\n# print(dt_clf.score(val_tfidf, val_label))",
      "execution_count": null,
      "outputs": []
    },
    {
      "metadata": {
        "trusted": true,
        "_uuid": "09282bbaceb8823a8eb58516afaa05821e009d46"
      },
      "cell_type": "code",
      "source": "# from sklearn.ensemble import RandomForestClassifier\n\n# rf_clf = RandomForestClassifier()\n# rf_clf = rf_clf.fit(train_tfidf, train_label)\n\n# print(\"train_acc: \")\n# print(rf_clf.score(train_tfidf, train_label))\n# print(\"val_acc: \")\n# print(rf_clf.score(val_tfidf, val_label))",
      "execution_count": null,
      "outputs": []
    },
    {
      "metadata": {
        "trusted": true,
        "_uuid": "cbede81e35f266d17799caf4dbff640da817b2b1"
      },
      "cell_type": "code",
      "source": "# svclf = SVC(kernel = 'linear')\n# svclf.fit(train_tfidf,train_label)\n# pred = svclf.predict(val_tfidf);\n# print(np.sum(pred==val_label)/pred.shape[0])",
      "execution_count": null,
      "outputs": []
    },
    {
      "metadata": {
        "trusted": true,
        "_uuid": "f1fad055bfea84dcba12e1191d62c2a2744ff8d9"
      },
      "cell_type": "code",
      "source": "# print(svclf.get_params())",
      "execution_count": null,
      "outputs": []
    },
    {
      "metadata": {
        "trusted": true,
        "_uuid": "85e849e9ef4107a0263641340e29ae026755bcac"
      },
      "cell_type": "code",
      "source": "# C = [0.5, 0.6, 0.7,0.8,0.9,1]\n\n# for c in C:\n#     print(\"c: %f\" %(c))\n#     svclf = SVC(kernel = 'linear', C=c)\n#     svclf.fit(train_tfidf,train_label)\n#     pred = svclf.predict(val_tfidf);\n#     print(np.sum(pred==val_label)/pred.shape[0])\n",
      "execution_count": null,
      "outputs": []
    },
    {
      "metadata": {
        "trusted": true,
        "_uuid": "3513b74b146548360ca22426252d42e4b306cd0a"
      },
      "cell_type": "code",
      "source": "tr_bow = vectorizer.fit_transform(tr_df['text'])\nte_bow = vectorizer.transform(te_df['text'])\n\ntr_tfidf = transformer.fit_transform(tr_bow)\nte_tfidf = transformer.transform(te_bow)\n\ntr_label = tr_df['label']\nte_label = te_df['label']\n\ntr_id = tr_df['id']\nte_id = te_df['id']",
      "execution_count": null,
      "outputs": []
    },
    {
      "metadata": {
        "trusted": true,
        "_uuid": "40569f06afb640474c525400c70bbf2c2bd0fb86"
      },
      "cell_type": "code",
      "source": "\nsvclf = SVC(kernel = 'linear', C=0.8)\nsvclf.fit(tr_tfidf,tr_label)\npred = svclf.predict(tr_tfidf);\nprint(np.sum(pred==tr_label)/pred.shape[0])\n\n\ntest_pre = svclf.predict(te_tfidf)\n",
      "execution_count": null,
      "outputs": []
    },
    {
      "metadata": {
        "trusted": true,
        "_uuid": "8cf26e6ec9272bbe47d6564f6da5faa2ca33fd21"
      },
      "cell_type": "code",
      "source": "sub_df = pd.DataFrame()\nsub_df[\"id\"] = te_id\nsub_df[\"pred\"] = test_pre\nsub_df.to_csv(\"submission.csv\", index=False)",
      "execution_count": null,
      "outputs": []
    },
    {
      "metadata": {
        "trusted": true,
        "_uuid": "cd63b9df6d41b18eb115d9317aa0ac0c236358e2"
      },
      "cell_type": "code",
      "source": "",
      "execution_count": null,
      "outputs": []
    },
    {
      "metadata": {
        "trusted": true,
        "_uuid": "691405b9796a82a485c791ecc33e511f64877004"
      },
      "cell_type": "code",
      "source": "",
      "execution_count": null,
      "outputs": []
    },
    {
      "metadata": {
        "trusted": true,
        "_uuid": "9df52607e611d03e253116a6ea72f49621ca9d5d"
      },
      "cell_type": "code",
      "source": "",
      "execution_count": null,
      "outputs": []
    },
    {
      "metadata": {
        "trusted": true,
        "_uuid": "fedc8a6837e15868d3af4401bd0023b51fcfda39"
      },
      "cell_type": "code",
      "source": "",
      "execution_count": null,
      "outputs": []
    },
    {
      "metadata": {
        "trusted": true,
        "_uuid": "fc0d6ba0928017bcc78d7175b5daf62da99be479"
      },
      "cell_type": "code",
      "source": "",
      "execution_count": null,
      "outputs": []
    },
    {
      "metadata": {
        "trusted": true,
        "_uuid": "d0457f15c54797bd0d88cd650e6b8d3a35669113"
      },
      "cell_type": "code",
      "source": "",
      "execution_count": null,
      "outputs": []
    },
    {
      "metadata": {
        "trusted": true,
        "_uuid": "87f9c17586a2aecdf293ea621ec3cd0d31a82824"
      },
      "cell_type": "code",
      "source": "",
      "execution_count": null,
      "outputs": []
    },
    {
      "metadata": {
        "trusted": true,
        "_uuid": "3ecd7baa675bc7c98ccfc773320866f99ad69d8a"
      },
      "cell_type": "code",
      "source": "",
      "execution_count": null,
      "outputs": []
    },
    {
      "metadata": {
        "trusted": true,
        "_uuid": "caca1a24f6a3dddebd806c96faddb155f488de61"
      },
      "cell_type": "code",
      "source": "",
      "execution_count": null,
      "outputs": []
    },
    {
      "metadata": {
        "trusted": true,
        "_uuid": "6266ce93d3ddc865fe886fbdacb8c6d8763fde86"
      },
      "cell_type": "code",
      "source": "",
      "execution_count": null,
      "outputs": []
    }
  ],
  "metadata": {
    "kernelspec": {
      "display_name": "Python 3",
      "language": "python",
      "name": "python3"
    },
    "language_info": {
      "name": "python",
      "version": "3.6.6",
      "mimetype": "text/x-python",
      "codemirror_mode": {
        "name": "ipython",
        "version": 3
      },
      "pygments_lexer": "ipython3",
      "nbconvert_exporter": "python",
      "file_extension": ".py"
    }
  },
  "nbformat": 4,
  "nbformat_minor": 1
}