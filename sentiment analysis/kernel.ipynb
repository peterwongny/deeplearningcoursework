{
  "cells": [
    {
      "metadata": {
        "_uuid": "8f2839f25d086af736a60e9eeb907d3b93b6e0e5",
        "_cell_guid": "b1076dfc-b9ad-4769-8c92-a6c4dae69d19",
        "trusted": true
      },
      "cell_type": "code",
      "source": "# This Python 3 environment comes with many helpful analytics libraries installed\n# It is defined by the kaggle/python docker image: https://github.com/kaggle/docker-python\n# For example, here's several helpful packages to load in \n\nimport numpy as np # linear algebra\nimport pandas as pd # data processing, CSV file I/O (e.g. pd.read_csv)\n\n# Input data files are available in the \"../input/\" directory.\n# For example, running this (by clicking run or pressing Shift+Enter) will list the files in the input directory\n\nimport os\nprint(os.listdir(\"../input\"))\n\nfrom scipy import sparse\nfrom collections import Counter\nfrom sklearn.metrics import accuracy_score, precision_recall_fscore_support\nimport nltk\nfrom nltk.corpus import stopwords\nimport string\n# Any results you write to the current directory are saved as output.\nstop_words = set(stopwords.words('english') + list(string.punctuation))",
      "execution_count": 1,
      "outputs": [
        {
          "output_type": "stream",
          "text": "['train.csv', 'sample_submission.csv', 'test.csv']\n",
          "name": "stdout"
        }
      ]
    },
    {
      "metadata": {
        "_cell_guid": "79c7e3d0-c299-4dcb-8224-4455121ee9b0",
        "_uuid": "d629ff2d2480ee46fbb7e2d37f6b5fab8052498a",
        "trusted": true
      },
      "cell_type": "code",
      "source": "tr_df = pd.read_csv(\"../input/train.csv\")\nte_df = pd.read_csv(\"../input/test.csv\")",
      "execution_count": 2,
      "outputs": []
    },
    {
      "metadata": {
        "trusted": true,
        "_uuid": "d4cef75c1f0fa11624e148b61daaef588ee7d509"
      },
      "cell_type": "code",
      "source": "print(\"Train size: \", tr_df.shape[0])\nprint(\"Test size: \", te_df.shape[0])",
      "execution_count": 3,
      "outputs": [
        {
          "output_type": "stream",
          "text": "Train size:  16000\nTest size:  4491\n",
          "name": "stdout"
        }
      ]
    },
    {
      "metadata": {
        "trusted": true,
        "_uuid": "5da39b928886155b28c829d6b8ff5b3fb098c7dd"
      },
      "cell_type": "code",
      "source": "tr_df[\"label\"].value_counts()",
      "execution_count": 4,
      "outputs": [
        {
          "output_type": "execute_result",
          "execution_count": 4,
          "data": {
            "text/plain": "5    6891\n4    4774\n3    1716\n2    1440\n1    1179\nName: label, dtype: int64"
          },
          "metadata": {}
        }
      ]
    },
    {
      "metadata": {
        "trusted": true,
        "_uuid": "896b57899bff08ebc5b314a34c645119dffb7921"
      },
      "cell_type": "code",
      "source": "te_df[\"label\"].value_counts()",
      "execution_count": 5,
      "outputs": [
        {
          "output_type": "execute_result",
          "execution_count": 5,
          "data": {
            "text/plain": "-1    4491\nName: label, dtype: int64"
          },
          "metadata": {}
        }
      ]
    },
    {
      "metadata": {
        "trusted": true,
        "_uuid": "992e19d43ad9cb657c4151811952db34fc8f5f35"
      },
      "cell_type": "code",
      "source": "def tokenize(text):\n    '''\n    :param text: a doc with multiple sentences, type: str\n    return a word list, type: list\n    https://textminingonline.com/dive-into-nltk-part-ii-sentence-tokenize-and-word-tokenize\n    e.g. \n    Input: 'It is a nice day. I am happy.'\n    Output: ['it', 'is', 'a', 'nice', 'day', 'i', 'am', 'happy']\n    '''\n    tokens = []\n    # YOUR CODE HERE\n    for word in nltk.word_tokenize(text):\n        word = word.lower()\n        if word not in stop_words and not word.isnumeric():\n            tokens.append(word)\n\n    return tokens\n\n",
      "execution_count": 6,
      "outputs": []
    },
    {
      "metadata": {
        "trusted": true,
        "scrolled": false,
        "_uuid": "f9e206e14ce8ca9a3d2bf50e30f2ca33e94d3fb6"
      },
      "cell_type": "code",
      "source": "#split train and val\nN = len(tr_df['id'])\ntrain_size = int(round(N * 0.8))\ntrain_df = tr_df[:train_size]\nval_df = tr_df[train_size:-1]\ntest_df = te_df\n\n\ntrain_id = train_df['id']\nval_id = val_df['id']\ntest_id = test_df['id']\n\ntrain_label = train_df['label']\nval_label = val_df['label']\ntest_label = test_df['label']\n\n",
      "execution_count": 7,
      "outputs": []
    },
    {
      "metadata": {
        "trusted": true,
        "_uuid": "15686544a723958d1beeaa3d7c248dbf63ec7330"
      },
      "cell_type": "code",
      "source": "from sklearn.feature_extraction.text import CountVectorizer\n\nvectorizer = CountVectorizer(stop_words=stop_words)\n\ntrain_bow = vectorizer.fit_transform(train_df['text'])\nval_bow = vectorizer.transform(val_df['text'])\ntest_bow = vectorizer.transform(test_df['text'])\n\n",
      "execution_count": 8,
      "outputs": []
    },
    {
      "metadata": {
        "trusted": true,
        "_uuid": "d411458bd58d22e2ee673375d37a816f59828367"
      },
      "cell_type": "code",
      "source": "from sklearn.feature_extraction.text import TfidfTransformer\n\n\ntransformer = TfidfTransformer()\n\n\ntrain_tfidf = transformer.fit_transform(train_bow)\nval_tfidf = transformer.transform(val_bow)\ntest_tfidf = transformer.transform(test_bow)",
      "execution_count": 9,
      "outputs": []
    },
    {
      "metadata": {
        "trusted": true,
        "_uuid": "a684b620de0917afa79c087e9484c76219847ae6"
      },
      "cell_type": "code",
      "source": "from sklearn import preprocessing \n\ntrain_tfidf = preprocessing.scale(train_tfidf, with_mean=False)\n\n# train_bow = preprocessing.normalize(train_bow, axis=0)",
      "execution_count": 10,
      "outputs": []
    },
    {
      "metadata": {
        "trusted": true,
        "_uuid": "871d1e065f265ae17e9d2b81612b7efa73e5bc81"
      },
      "cell_type": "code",
      "source": "from sklearn.svm import SVC\nfrom sklearn.grid_search import GridSearchCV\n\n",
      "execution_count": 11,
      "outputs": [
        {
          "output_type": "stream",
          "text": "/opt/conda/lib/python3.6/site-packages/sklearn/cross_validation.py:41: DeprecationWarning: This module was deprecated in version 0.18 in favor of the model_selection module into which all the refactored classes and functions are moved. Also note that the interface of the new CV iterators are different from that of this module. This module will be removed in 0.20.\n  \"This module will be removed in 0.20.\", DeprecationWarning)\n/opt/conda/lib/python3.6/site-packages/sklearn/grid_search.py:42: DeprecationWarning: This module was deprecated in version 0.18 in favor of the model_selection module into which all the refactored classes and functions are moved. This module will be removed in 0.20.\n  DeprecationWarning)\n",
          "name": "stderr"
        }
      ]
    },
    {
      "metadata": {
        "trusted": true,
        "scrolled": false,
        "_uuid": "acbe0e34b21b200772437b61312acfada89a8b17"
      },
      "cell_type": "code",
      "source": "\n\n\ntuned_parameters = [{'kernel': ['linear'], 'gamma': [1e-2, 1e-3],\n                     'C': [5e-3, 1e-2,3e-2]}]\n\nclf = GridSearchCV(SVC(), tuned_parameters, cv=3,scoring=\"accuracy\", verbose=100)\n\nclf.fit(train_bow, train_label)\n\n\n",
      "execution_count": 12,
      "outputs": [
        {
          "output_type": "stream",
          "text": "Fitting 3 folds for each of 6 candidates, totalling 18 fits\n[CV] C=0.005, gamma=0.01, kernel=linear ..............................\n[CV] ..... C=0.005, gamma=0.01, kernel=linear, score=0.583978 - 1.3min\n[Parallel(n_jobs=1)]: Done   1 out of   1 | elapsed:  1.3min remaining:    0.0s\n[CV] C=0.005, gamma=0.01, kernel=linear ..............................\n[CV] ..... C=0.005, gamma=0.01, kernel=linear, score=0.572433 - 1.3min\n[Parallel(n_jobs=1)]: Done   2 out of   2 | elapsed:  2.6min remaining:    0.0s\n[CV] C=0.005, gamma=0.01, kernel=linear ..............................\n[CV] ..... C=0.005, gamma=0.01, kernel=linear, score=0.567878 - 1.3min\n[Parallel(n_jobs=1)]: Done   3 out of   3 | elapsed:  4.0min remaining:    0.0s\n[CV] C=0.005, gamma=0.001, kernel=linear .............................\n[CV] .... C=0.005, gamma=0.001, kernel=linear, score=0.583978 - 1.3min\n[Parallel(n_jobs=1)]: Done   4 out of   4 | elapsed:  5.3min remaining:    0.0s\n[CV] C=0.005, gamma=0.001, kernel=linear .............................\n[CV] .... C=0.005, gamma=0.001, kernel=linear, score=0.572433 - 1.3min\n[Parallel(n_jobs=1)]: Done   5 out of   5 | elapsed:  6.6min remaining:    0.0s\n[CV] C=0.005, gamma=0.001, kernel=linear .............................\n[CV] .... C=0.005, gamma=0.001, kernel=linear, score=0.567878 - 1.4min\n[Parallel(n_jobs=1)]: Done   6 out of   6 | elapsed:  7.9min remaining:    0.0s\n[CV] C=0.01, gamma=0.01, kernel=linear ...............................\n[CV] ...... C=0.01, gamma=0.01, kernel=linear, score=0.585617 - 1.2min\n[Parallel(n_jobs=1)]: Done   7 out of   7 | elapsed:  9.2min remaining:    0.0s\n[CV] C=0.01, gamma=0.01, kernel=linear ...............................\n[CV] ...... C=0.01, gamma=0.01, kernel=linear, score=0.584623 - 1.3min\n[Parallel(n_jobs=1)]: Done   8 out of   8 | elapsed: 10.4min remaining:    0.0s\n[CV] C=0.01, gamma=0.01, kernel=linear ...............................\n[CV] ...... C=0.01, gamma=0.01, kernel=linear, score=0.580070 - 1.3min\n[Parallel(n_jobs=1)]: Done   9 out of   9 | elapsed: 11.7min remaining:    0.0s\n[CV] C=0.01, gamma=0.001, kernel=linear ..............................\n[CV] ..... C=0.01, gamma=0.001, kernel=linear, score=0.585617 - 1.2min\n[Parallel(n_jobs=1)]: Done  10 out of  10 | elapsed: 12.9min remaining:    0.0s\n[CV] C=0.01, gamma=0.001, kernel=linear ..............................\n[CV] ..... C=0.01, gamma=0.001, kernel=linear, score=0.584623 - 1.3min\n[Parallel(n_jobs=1)]: Done  11 out of  11 | elapsed: 14.2min remaining:    0.0s\n[CV] C=0.01, gamma=0.001, kernel=linear ..............................\n[CV] ..... C=0.01, gamma=0.001, kernel=linear, score=0.580070 - 1.3min\n[Parallel(n_jobs=1)]: Done  12 out of  12 | elapsed: 15.5min remaining:    0.0s\n[CV] C=0.03, gamma=0.01, kernel=linear ...............................\n[CV] ...... C=0.03, gamma=0.01, kernel=linear, score=0.560787 - 1.2min\n[Parallel(n_jobs=1)]: Done  13 out of  13 | elapsed: 16.7min remaining:    0.0s\n[CV] C=0.03, gamma=0.01, kernel=linear ...............................\n[CV] ...... C=0.03, gamma=0.01, kernel=linear, score=0.580403 - 1.2min\n[Parallel(n_jobs=1)]: Done  14 out of  14 | elapsed: 17.9min remaining:    0.0s\n[CV] C=0.03, gamma=0.01, kernel=linear ...............................\n[CV] ...... C=0.03, gamma=0.01, kernel=linear, score=0.568581 - 1.2min\n[Parallel(n_jobs=1)]: Done  15 out of  15 | elapsed: 19.1min remaining:    0.0s\n[CV] C=0.03, gamma=0.001, kernel=linear ..............................\n[CV] ..... C=0.03, gamma=0.001, kernel=linear, score=0.560787 - 1.2min\n[Parallel(n_jobs=1)]: Done  16 out of  16 | elapsed: 20.3min remaining:    0.0s\n[CV] C=0.03, gamma=0.001, kernel=linear ..............................\n[CV] ..... C=0.03, gamma=0.001, kernel=linear, score=0.580403 - 1.2min\n[Parallel(n_jobs=1)]: Done  17 out of  17 | elapsed: 21.5min remaining:    0.0s\n[CV] C=0.03, gamma=0.001, kernel=linear ..............................\n[CV] ..... C=0.03, gamma=0.001, kernel=linear, score=0.568581 - 1.3min\n[Parallel(n_jobs=1)]: Done  18 out of  18 | elapsed: 22.8min remaining:    0.0s\n[Parallel(n_jobs=1)]: Done  18 out of  18 | elapsed: 22.8min finished\n",
          "name": "stdout"
        },
        {
          "output_type": "execute_result",
          "execution_count": 12,
          "data": {
            "text/plain": "GridSearchCV(cv=3, error_score='raise',\n       estimator=SVC(C=1.0, cache_size=200, class_weight=None, coef0=0.0,\n  decision_function_shape='ovr', degree=3, gamma='auto', kernel='rbf',\n  max_iter=-1, probability=False, random_state=None, shrinking=True,\n  tol=0.001, verbose=False),\n       fit_params={}, iid=True, n_jobs=1,\n       param_grid=[{'kernel': ['linear'], 'gamma': [0.01, 0.001], 'C': [0.005, 0.01, 0.03]}],\n       pre_dispatch='2*n_jobs', refit=True, scoring='accuracy',\n       verbose=100)"
          },
          "metadata": {}
        }
      ]
    },
    {
      "metadata": {
        "trusted": true,
        "_uuid": "116ab5492d4861f9f2841ac26befd36f2b71b2a5",
        "scrolled": false
      },
      "cell_type": "code",
      "source": "print(\"Best parameters\")\nprint(clf.best_params_)\nprint()\nprint(clf.best_score_)",
      "execution_count": 13,
      "outputs": [
        {
          "output_type": "stream",
          "text": "Best parameters\n{'C': 0.01, 'gamma': 0.01, 'kernel': 'linear'}\n\n0.5834375\n",
          "name": "stdout"
        }
      ]
    },
    {
      "metadata": {
        "trusted": true,
        "_uuid": "09345ce0af5b898c7fbd6cf8ec5d2dc0251c1d4b"
      },
      "cell_type": "code",
      "source": "from sklearn.naive_bayes import GaussianNB\nfrom sklearn.naive_bayes import MultinomialNB",
      "execution_count": 15,
      "outputs": []
    },
    {
      "metadata": {
        "trusted": true,
        "_uuid": "239f49da71b10b82d672e4a1e284aaca4d20334d"
      },
      "cell_type": "code",
      "source": "mnb_clf = MultinomialNB()\n\nmnb_clf.fit(train_bow, train_label)\nprint(\"train_acc: \")\nprint(mnb_clf.score(train_bow, train_label))\nprint(\"val_acc: \")\nprint(mnb_clf.score(val_bow, val_label))\n",
      "execution_count": 16,
      "outputs": [
        {
          "output_type": "stream",
          "text": "train_acc: \n0.7803125\nval_acc: \n0.6076899030947172\n",
          "name": "stdout"
        }
      ]
    },
    {
      "metadata": {
        "trusted": true,
        "_uuid": "31294c00bccc51ebcd1746ec49a09bdde7549e59",
        "scrolled": true
      },
      "cell_type": "code",
      "source": "gnb_clf = GaussianNB()\n\ngnb_clf.fit(train_bow.toarray(), train_label)\nprint(\"train_acc: \")\nprint(gnb_clf.score(train_bow.toarray(), train_label))\nprint(\"val_acc: \")\nprint(gnb_clf.score(val_bow.toarray(), val_label))",
      "execution_count": 17,
      "outputs": [
        {
          "output_type": "stream",
          "text": "train_acc: \n0.79125\nval_acc: \n0.3150984682713348\n",
          "name": "stdout"
        }
      ]
    },
    {
      "metadata": {
        "trusted": true,
        "_uuid": "a87e6048a76b088af1f5a9584f3d4c4bfd795a41"
      },
      "cell_type": "code",
      "source": "from sklearn import tree\ndt_clf = tree.DecisionTreeClassifier()\ndt_clf = dt_clf.fit(train_tfidf.toarray(), train_label)\n\nprint(\"train_acc: \")\nprint(dt_clf.score(train_tfidf, train_label))\nprint(\"val_acc: \")\nprint(dt_clf.score(val_tfidf, val_label))",
      "execution_count": null,
      "outputs": []
    },
    {
      "metadata": {
        "trusted": true,
        "_uuid": "09282bbaceb8823a8eb58516afaa05821e009d46"
      },
      "cell_type": "code",
      "source": "from sklearn.ensemble import RandomForestClassifier\n\nrf_clf = RandomForestClassifier()\nrf_clf = rf_clf.fit(train_tfidf, train_label)\n\nprint(\"train_acc: \")\nprint(rf_clf.score(train_tfidf, train_label))\nprint(\"val_acc: \")\nprint(rf_clf.score(val_tfidf, val_label))",
      "execution_count": null,
      "outputs": []
    },
    {
      "metadata": {
        "trusted": true,
        "_uuid": "6baec3d654c003d7414d70a00501c966bb88f050"
      },
      "cell_type": "code",
      "source": "",
      "execution_count": null,
      "outputs": []
    },
    {
      "metadata": {
        "trusted": true,
        "_uuid": "9d1ce8828d6a7eb670bd6c3ddc1541203587b808"
      },
      "cell_type": "code",
      "source": "",
      "execution_count": null,
      "outputs": []
    },
    {
      "metadata": {
        "trusted": true,
        "_uuid": "cbede81e35f266d17799caf4dbff640da817b2b1"
      },
      "cell_type": "code",
      "source": "",
      "execution_count": null,
      "outputs": []
    },
    {
      "metadata": {
        "trusted": true,
        "_uuid": "f1fad055bfea84dcba12e1191d62c2a2744ff8d9"
      },
      "cell_type": "code",
      "source": "",
      "execution_count": null,
      "outputs": []
    },
    {
      "metadata": {
        "trusted": true,
        "_uuid": "85e849e9ef4107a0263641340e29ae026755bcac"
      },
      "cell_type": "code",
      "source": "",
      "execution_count": null,
      "outputs": []
    },
    {
      "metadata": {
        "trusted": true,
        "_uuid": "40569f06afb640474c525400c70bbf2c2bd0fb86"
      },
      "cell_type": "code",
      "source": "",
      "execution_count": null,
      "outputs": []
    },
    {
      "metadata": {
        "trusted": true,
        "_uuid": "8cf26e6ec9272bbe47d6564f6da5faa2ca33fd21"
      },
      "cell_type": "code",
      "source": "",
      "execution_count": null,
      "outputs": []
    },
    {
      "metadata": {
        "trusted": true,
        "_uuid": "cd63b9df6d41b18eb115d9317aa0ac0c236358e2"
      },
      "cell_type": "code",
      "source": "",
      "execution_count": null,
      "outputs": []
    },
    {
      "metadata": {
        "trusted": true,
        "_uuid": "691405b9796a82a485c791ecc33e511f64877004"
      },
      "cell_type": "code",
      "source": "",
      "execution_count": null,
      "outputs": []
    },
    {
      "metadata": {
        "trusted": true,
        "_uuid": "9df52607e611d03e253116a6ea72f49621ca9d5d"
      },
      "cell_type": "code",
      "source": "",
      "execution_count": null,
      "outputs": []
    },
    {
      "metadata": {
        "trusted": true,
        "_uuid": "fedc8a6837e15868d3af4401bd0023b51fcfda39"
      },
      "cell_type": "code",
      "source": "",
      "execution_count": null,
      "outputs": []
    },
    {
      "metadata": {
        "trusted": true,
        "_uuid": "fc0d6ba0928017bcc78d7175b5daf62da99be479"
      },
      "cell_type": "code",
      "source": "",
      "execution_count": null,
      "outputs": []
    },
    {
      "metadata": {
        "trusted": true,
        "_uuid": "d0457f15c54797bd0d88cd650e6b8d3a35669113"
      },
      "cell_type": "code",
      "source": "",
      "execution_count": null,
      "outputs": []
    },
    {
      "metadata": {
        "trusted": true,
        "_uuid": "87f9c17586a2aecdf293ea621ec3cd0d31a82824"
      },
      "cell_type": "code",
      "source": "",
      "execution_count": null,
      "outputs": []
    },
    {
      "metadata": {
        "trusted": true,
        "_uuid": "3ecd7baa675bc7c98ccfc773320866f99ad69d8a"
      },
      "cell_type": "code",
      "source": "",
      "execution_count": null,
      "outputs": []
    },
    {
      "metadata": {
        "trusted": true,
        "_uuid": "caca1a24f6a3dddebd806c96faddb155f488de61"
      },
      "cell_type": "code",
      "source": "",
      "execution_count": null,
      "outputs": []
    },
    {
      "metadata": {
        "trusted": true,
        "_uuid": "6266ce93d3ddc865fe886fbdacb8c6d8763fde86"
      },
      "cell_type": "code",
      "source": "",
      "execution_count": null,
      "outputs": []
    }
  ],
  "metadata": {
    "kernelspec": {
      "display_name": "Python 3",
      "language": "python",
      "name": "python3"
    },
    "language_info": {
      "name": "python",
      "version": "3.6.6",
      "mimetype": "text/x-python",
      "codemirror_mode": {
        "name": "ipython",
        "version": 3
      },
      "pygments_lexer": "ipython3",
      "nbconvert_exporter": "python",
      "file_extension": ".py"
    }
  },
  "nbformat": 4,
  "nbformat_minor": 1
}